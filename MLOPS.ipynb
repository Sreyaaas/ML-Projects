{
 "cells": [
  {
   "cell_type": "code",
   "execution_count": 5,
   "id": "b9670079",
   "metadata": {},
   "outputs": [],
   "source": [
    "data=\"C:\\\\MLOPS\\\\4-Ridge Lasso And Elasticnet\\\\Ridge Lassso Elastic Regression Practicals\\\\Algerian_forest_fires_dataset_UPDATE.csv\""
   ]
  },
  {
   "cell_type": "code",
   "execution_count": 6,
   "id": "4c8a7f80",
   "metadata": {},
   "outputs": [],
   "source": [
    "import pandas as pd\n",
    "import numpy as np\n",
    "import matplotlib.pyplot as plt\n",
    "import seaborn as sns\n",
    "%matplotlib inline"
   ]
  },
  {
   "cell_type": "code",
   "execution_count": 12,
   "id": "d1d05f41",
   "metadata": {},
   "outputs": [],
   "source": [
    "dataset=pd.read_csv(data,header=1)\n",
    "columns=[]"
   ]
  },
  {
   "cell_type": "code",
   "execution_count": 15,
   "id": "f4f01937",
   "metadata": {},
   "outputs": [
    {
     "data": {
      "text/html": [
       "<div>\n",
       "<style scoped>\n",
       "    .dataframe tbody tr th:only-of-type {\n",
       "        vertical-align: middle;\n",
       "    }\n",
       "\n",
       "    .dataframe tbody tr th {\n",
       "        vertical-align: top;\n",
       "    }\n",
       "\n",
       "    .dataframe thead th {\n",
       "        text-align: right;\n",
       "    }\n",
       "</style>\n",
       "<table border=\"1\" class=\"dataframe\">\n",
       "  <thead>\n",
       "    <tr style=\"text-align: right;\">\n",
       "      <th></th>\n",
       "      <th>index</th>\n",
       "      <th>day</th>\n",
       "      <th>month</th>\n",
       "      <th>year</th>\n",
       "      <th>Temperature</th>\n",
       "      <th>RH</th>\n",
       "      <th>Ws</th>\n",
       "      <th>Rain</th>\n",
       "      <th>FFMC</th>\n",
       "      <th>DMC</th>\n",
       "      <th>DC</th>\n",
       "      <th>ISI</th>\n",
       "      <th>BUI</th>\n",
       "      <th>FWI</th>\n",
       "      <th>Classes</th>\n",
       "      <th>Region</th>\n",
       "    </tr>\n",
       "  </thead>\n",
       "  <tbody>\n",
       "    <tr>\n",
       "      <th>0</th>\n",
       "      <td>1</td>\n",
       "      <td>2</td>\n",
       "      <td>6</td>\n",
       "      <td>2012</td>\n",
       "      <td>29</td>\n",
       "      <td>61</td>\n",
       "      <td>13</td>\n",
       "      <td>1.3</td>\n",
       "      <td>64.4</td>\n",
       "      <td>4.1</td>\n",
       "      <td>7.6</td>\n",
       "      <td>1.0</td>\n",
       "      <td>3.9</td>\n",
       "      <td>0.4</td>\n",
       "      <td>not fire</td>\n",
       "      <td>0</td>\n",
       "    </tr>\n",
       "    <tr>\n",
       "      <th>1</th>\n",
       "      <td>2</td>\n",
       "      <td>3</td>\n",
       "      <td>6</td>\n",
       "      <td>2012</td>\n",
       "      <td>26</td>\n",
       "      <td>82</td>\n",
       "      <td>22</td>\n",
       "      <td>13.1</td>\n",
       "      <td>47.1</td>\n",
       "      <td>2.5</td>\n",
       "      <td>7.1</td>\n",
       "      <td>0.3</td>\n",
       "      <td>2.7</td>\n",
       "      <td>0.1</td>\n",
       "      <td>not fire</td>\n",
       "      <td>0</td>\n",
       "    </tr>\n",
       "    <tr>\n",
       "      <th>2</th>\n",
       "      <td>3</td>\n",
       "      <td>4</td>\n",
       "      <td>6</td>\n",
       "      <td>2012</td>\n",
       "      <td>25</td>\n",
       "      <td>89</td>\n",
       "      <td>13</td>\n",
       "      <td>2.5</td>\n",
       "      <td>28.6</td>\n",
       "      <td>1.3</td>\n",
       "      <td>6.9</td>\n",
       "      <td>0.0</td>\n",
       "      <td>1.7</td>\n",
       "      <td>0.0</td>\n",
       "      <td>not fire</td>\n",
       "      <td>0</td>\n",
       "    </tr>\n",
       "    <tr>\n",
       "      <th>3</th>\n",
       "      <td>4</td>\n",
       "      <td>5</td>\n",
       "      <td>6</td>\n",
       "      <td>2012</td>\n",
       "      <td>27</td>\n",
       "      <td>77</td>\n",
       "      <td>16</td>\n",
       "      <td>0.0</td>\n",
       "      <td>64.8</td>\n",
       "      <td>3.0</td>\n",
       "      <td>14.2</td>\n",
       "      <td>1.2</td>\n",
       "      <td>3.9</td>\n",
       "      <td>0.5</td>\n",
       "      <td>not fire</td>\n",
       "      <td>0</td>\n",
       "    </tr>\n",
       "    <tr>\n",
       "      <th>4</th>\n",
       "      <td>5</td>\n",
       "      <td>6</td>\n",
       "      <td>6</td>\n",
       "      <td>2012</td>\n",
       "      <td>31</td>\n",
       "      <td>67</td>\n",
       "      <td>14</td>\n",
       "      <td>0.0</td>\n",
       "      <td>82.6</td>\n",
       "      <td>5.8</td>\n",
       "      <td>22.2</td>\n",
       "      <td>3.1</td>\n",
       "      <td>7.0</td>\n",
       "      <td>2.5</td>\n",
       "      <td>fire</td>\n",
       "      <td>0</td>\n",
       "    </tr>\n",
       "  </tbody>\n",
       "</table>\n",
       "</div>"
      ],
      "text/plain": [
       "   index  day  month  year  Temperature  RH  Ws  Rain  FFMC  DMC    DC  ISI  \\\n",
       "0      1    2      6  2012           29  61  13   1.3  64.4  4.1   7.6  1.0   \n",
       "1      2    3      6  2012           26  82  22  13.1  47.1  2.5   7.1  0.3   \n",
       "2      3    4      6  2012           25  89  13   2.5  28.6  1.3   6.9  0.0   \n",
       "3      4    5      6  2012           27  77  16   0.0  64.8  3.0  14.2  1.2   \n",
       "4      5    6      6  2012           31  67  14   0.0  82.6  5.8  22.2  3.1   \n",
       "\n",
       "   BUI  FWI      Classes  Region  \n",
       "0  3.9  0.4  not fire          0  \n",
       "1  2.7  0.1  not fire          0  \n",
       "2  1.7  0.0  not fire          0  \n",
       "3  3.9  0.5  not fire          0  \n",
       "4  7.0  2.5      fire          0  "
      ]
     },
     "execution_count": 15,
     "metadata": {},
     "output_type": "execute_result"
    }
   ],
   "source": [
    "dataset.columns=['index','day','month','year','Temperature','RH','Ws','Rain','FFMC','DMC','DC','ISI','BUI','FWI','Classes','Region']\n",
    "dataset.head()"
   ]
  },
  {
   "cell_type": "code",
   "execution_count": 16,
   "id": "f1152841",
   "metadata": {},
   "outputs": [],
   "source": [
    "emp=dataset.isnull().any(axis=1)"
   ]
  },
  {
   "cell_type": "code",
   "execution_count": 17,
   "id": "8c5f7b7c",
   "metadata": {},
   "outputs": [
    {
     "data": {
      "text/html": [
       "<div>\n",
       "<style scoped>\n",
       "    .dataframe tbody tr th:only-of-type {\n",
       "        vertical-align: middle;\n",
       "    }\n",
       "\n",
       "    .dataframe tbody tr th {\n",
       "        vertical-align: top;\n",
       "    }\n",
       "\n",
       "    .dataframe thead th {\n",
       "        text-align: right;\n",
       "    }\n",
       "</style>\n",
       "<table border=\"1\" class=\"dataframe\">\n",
       "  <thead>\n",
       "    <tr style=\"text-align: right;\">\n",
       "      <th></th>\n",
       "      <th>index</th>\n",
       "      <th>day</th>\n",
       "      <th>month</th>\n",
       "      <th>year</th>\n",
       "      <th>Temperature</th>\n",
       "      <th>RH</th>\n",
       "      <th>Ws</th>\n",
       "      <th>Rain</th>\n",
       "      <th>FFMC</th>\n",
       "      <th>DMC</th>\n",
       "      <th>DC</th>\n",
       "      <th>ISI</th>\n",
       "      <th>BUI</th>\n",
       "      <th>FWI</th>\n",
       "      <th>Classes</th>\n",
       "      <th>Region</th>\n",
       "    </tr>\n",
       "  </thead>\n",
       "  <tbody>\n",
       "  </tbody>\n",
       "</table>\n",
       "</div>"
      ],
      "text/plain": [
       "Empty DataFrame\n",
       "Columns: [index, day, month, year, Temperature, RH, Ws, Rain, FFMC, DMC, DC, ISI, BUI, FWI, Classes, Region]\n",
       "Index: []"
      ]
     },
     "execution_count": 17,
     "metadata": {},
     "output_type": "execute_result"
    }
   ],
   "source": [
    "dataset[emp]"
   ]
  },
  {
   "cell_type": "code",
   "execution_count": 18,
   "id": "281e515b",
   "metadata": {},
   "outputs": [],
   "source": [
    "dataset.loc[:122,\"Region\"]=0\n",
    "dataset.loc[122:,\"Region\"]=1\n",
    "df=dataset"
   ]
  },
  {
   "cell_type": "code",
   "execution_count": 19,
   "id": "ff40a8e0",
   "metadata": {},
   "outputs": [],
   "source": [
    "df[[\"Region\"]]=df[[\"Region\"]].astype(int)"
   ]
  },
  {
   "cell_type": "code",
   "execution_count": 20,
   "id": "ed90b6c1",
   "metadata": {},
   "outputs": [
    {
     "name": "stdout",
     "output_type": "stream",
     "text": [
      "<class 'pandas.core.frame.DataFrame'>\n",
      "RangeIndex: 242 entries, 0 to 241\n",
      "Data columns (total 16 columns):\n",
      " #   Column       Non-Null Count  Dtype  \n",
      "---  ------       --------------  -----  \n",
      " 0   index        242 non-null    int64  \n",
      " 1   day          242 non-null    int64  \n",
      " 2   month        242 non-null    int64  \n",
      " 3   year         242 non-null    int64  \n",
      " 4   Temperature  242 non-null    int64  \n",
      " 5   RH           242 non-null    int64  \n",
      " 6   Ws           242 non-null    int64  \n",
      " 7   Rain         242 non-null    float64\n",
      " 8   FFMC         242 non-null    float64\n",
      " 9   DMC          242 non-null    float64\n",
      " 10  DC           242 non-null    float64\n",
      " 11  ISI          242 non-null    float64\n",
      " 12  BUI          242 non-null    float64\n",
      " 13  FWI          242 non-null    float64\n",
      " 14  Classes      242 non-null    object \n",
      " 15  Region       242 non-null    int32  \n",
      "dtypes: float64(7), int32(1), int64(7), object(1)\n",
      "memory usage: 29.4+ KB\n"
     ]
    }
   ],
   "source": [
    "df.info()"
   ]
  },
  {
   "cell_type": "code",
   "execution_count": 21,
   "id": "16d90c44",
   "metadata": {},
   "outputs": [
    {
     "data": {
      "text/html": [
       "<div>\n",
       "<style scoped>\n",
       "    .dataframe tbody tr th:only-of-type {\n",
       "        vertical-align: middle;\n",
       "    }\n",
       "\n",
       "    .dataframe tbody tr th {\n",
       "        vertical-align: top;\n",
       "    }\n",
       "\n",
       "    .dataframe thead th {\n",
       "        text-align: right;\n",
       "    }\n",
       "</style>\n",
       "<table border=\"1\" class=\"dataframe\">\n",
       "  <thead>\n",
       "    <tr style=\"text-align: right;\">\n",
       "      <th></th>\n",
       "      <th>index</th>\n",
       "      <th>day</th>\n",
       "      <th>month</th>\n",
       "      <th>year</th>\n",
       "      <th>Temperature</th>\n",
       "      <th>RH</th>\n",
       "      <th>Ws</th>\n",
       "      <th>Rain</th>\n",
       "      <th>FFMC</th>\n",
       "      <th>DMC</th>\n",
       "      <th>DC</th>\n",
       "      <th>ISI</th>\n",
       "      <th>BUI</th>\n",
       "      <th>FWI</th>\n",
       "      <th>Classes</th>\n",
       "      <th>Region</th>\n",
       "    </tr>\n",
       "  </thead>\n",
       "  <tbody>\n",
       "    <tr>\n",
       "      <th>237</th>\n",
       "      <td>238</td>\n",
       "      <td>26</td>\n",
       "      <td>9</td>\n",
       "      <td>2012</td>\n",
       "      <td>30</td>\n",
       "      <td>65</td>\n",
       "      <td>14</td>\n",
       "      <td>0.0</td>\n",
       "      <td>85.4</td>\n",
       "      <td>16.0</td>\n",
       "      <td>44.5</td>\n",
       "      <td>4.5</td>\n",
       "      <td>16.9</td>\n",
       "      <td>6.5</td>\n",
       "      <td>fire</td>\n",
       "      <td>1</td>\n",
       "    </tr>\n",
       "    <tr>\n",
       "      <th>238</th>\n",
       "      <td>239</td>\n",
       "      <td>27</td>\n",
       "      <td>9</td>\n",
       "      <td>2012</td>\n",
       "      <td>28</td>\n",
       "      <td>87</td>\n",
       "      <td>15</td>\n",
       "      <td>4.4</td>\n",
       "      <td>41.1</td>\n",
       "      <td>6.5</td>\n",
       "      <td>8.0</td>\n",
       "      <td>0.1</td>\n",
       "      <td>6.2</td>\n",
       "      <td>0.0</td>\n",
       "      <td>not fire</td>\n",
       "      <td>1</td>\n",
       "    </tr>\n",
       "    <tr>\n",
       "      <th>239</th>\n",
       "      <td>240</td>\n",
       "      <td>28</td>\n",
       "      <td>9</td>\n",
       "      <td>2012</td>\n",
       "      <td>27</td>\n",
       "      <td>87</td>\n",
       "      <td>29</td>\n",
       "      <td>0.5</td>\n",
       "      <td>45.9</td>\n",
       "      <td>3.5</td>\n",
       "      <td>7.9</td>\n",
       "      <td>0.4</td>\n",
       "      <td>3.4</td>\n",
       "      <td>0.2</td>\n",
       "      <td>not fire</td>\n",
       "      <td>1</td>\n",
       "    </tr>\n",
       "    <tr>\n",
       "      <th>240</th>\n",
       "      <td>241</td>\n",
       "      <td>29</td>\n",
       "      <td>9</td>\n",
       "      <td>2012</td>\n",
       "      <td>24</td>\n",
       "      <td>54</td>\n",
       "      <td>18</td>\n",
       "      <td>0.1</td>\n",
       "      <td>79.7</td>\n",
       "      <td>4.3</td>\n",
       "      <td>15.2</td>\n",
       "      <td>1.7</td>\n",
       "      <td>5.1</td>\n",
       "      <td>0.7</td>\n",
       "      <td>not fire</td>\n",
       "      <td>1</td>\n",
       "    </tr>\n",
       "    <tr>\n",
       "      <th>241</th>\n",
       "      <td>242</td>\n",
       "      <td>30</td>\n",
       "      <td>9</td>\n",
       "      <td>2012</td>\n",
       "      <td>24</td>\n",
       "      <td>64</td>\n",
       "      <td>15</td>\n",
       "      <td>0.2</td>\n",
       "      <td>67.3</td>\n",
       "      <td>3.8</td>\n",
       "      <td>16.5</td>\n",
       "      <td>1.2</td>\n",
       "      <td>4.8</td>\n",
       "      <td>0.5</td>\n",
       "      <td>not fire</td>\n",
       "      <td>1</td>\n",
       "    </tr>\n",
       "  </tbody>\n",
       "</table>\n",
       "</div>"
      ],
      "text/plain": [
       "     index  day  month  year  Temperature  RH  Ws  Rain  FFMC   DMC    DC  \\\n",
       "237    238   26      9  2012           30  65  14   0.0  85.4  16.0  44.5   \n",
       "238    239   27      9  2012           28  87  15   4.4  41.1   6.5   8.0   \n",
       "239    240   28      9  2012           27  87  29   0.5  45.9   3.5   7.9   \n",
       "240    241   29      9  2012           24  54  18   0.1  79.7   4.3  15.2   \n",
       "241    242   30      9  2012           24  64  15   0.2  67.3   3.8  16.5   \n",
       "\n",
       "     ISI   BUI  FWI       Classes  Region  \n",
       "237  4.5  16.9  6.5       fire          1  \n",
       "238  0.1   6.2  0.0   not fire          1  \n",
       "239  0.4   3.4  0.2   not fire          1  \n",
       "240  1.7   5.1  0.7   not fire          1  \n",
       "241  1.2   4.8  0.5  not fire           1  "
      ]
     },
     "execution_count": 21,
     "metadata": {},
     "output_type": "execute_result"
    }
   ],
   "source": [
    "df.tail()"
   ]
  },
  {
   "cell_type": "code",
   "execution_count": 22,
   "id": "2a80a89a",
   "metadata": {},
   "outputs": [
    {
     "data": {
      "text/plain": [
       "index          0\n",
       "day            0\n",
       "month          0\n",
       "year           0\n",
       "Temperature    0\n",
       "RH             0\n",
       "Ws             0\n",
       "Rain           0\n",
       "FFMC           0\n",
       "DMC            0\n",
       "DC             0\n",
       "ISI            0\n",
       "BUI            0\n",
       "FWI            0\n",
       "Classes        0\n",
       "Region         0\n",
       "dtype: int64"
      ]
     },
     "execution_count": 22,
     "metadata": {},
     "output_type": "execute_result"
    }
   ],
   "source": [
    "df.isnull().sum()"
   ]
  },
  {
   "cell_type": "code",
   "execution_count": 23,
   "id": "e34ad37a",
   "metadata": {},
   "outputs": [],
   "source": [
    "df=df.dropna().reset_index(drop=True)"
   ]
  },
  {
   "cell_type": "code",
   "execution_count": 24,
   "id": "407bbd6c",
   "metadata": {},
   "outputs": [
    {
     "data": {
      "text/plain": [
       "index          0\n",
       "day            0\n",
       "month          0\n",
       "year           0\n",
       "Temperature    0\n",
       "RH             0\n",
       "Ws             0\n",
       "Rain           0\n",
       "FFMC           0\n",
       "DMC            0\n",
       "DC             0\n",
       "ISI            0\n",
       "BUI            0\n",
       "FWI            0\n",
       "Classes        0\n",
       "Region         0\n",
       "dtype: int64"
      ]
     },
     "execution_count": 24,
     "metadata": {},
     "output_type": "execute_result"
    }
   ],
   "source": [
    "df.isnull().sum()"
   ]
  },
  {
   "cell_type": "code",
   "execution_count": 25,
   "id": "de3a4f14",
   "metadata": {},
   "outputs": [
    {
     "data": {
      "text/html": [
       "<div>\n",
       "<style scoped>\n",
       "    .dataframe tbody tr th:only-of-type {\n",
       "        vertical-align: middle;\n",
       "    }\n",
       "\n",
       "    .dataframe tbody tr th {\n",
       "        vertical-align: top;\n",
       "    }\n",
       "\n",
       "    .dataframe thead th {\n",
       "        text-align: right;\n",
       "    }\n",
       "</style>\n",
       "<table border=\"1\" class=\"dataframe\">\n",
       "  <thead>\n",
       "    <tr style=\"text-align: right;\">\n",
       "      <th></th>\n",
       "      <th>index</th>\n",
       "      <th>day</th>\n",
       "      <th>month</th>\n",
       "      <th>year</th>\n",
       "      <th>Temperature</th>\n",
       "      <th>RH</th>\n",
       "      <th>Ws</th>\n",
       "      <th>Rain</th>\n",
       "      <th>FFMC</th>\n",
       "      <th>DMC</th>\n",
       "      <th>DC</th>\n",
       "      <th>ISI</th>\n",
       "      <th>BUI</th>\n",
       "      <th>FWI</th>\n",
       "      <th>Classes</th>\n",
       "      <th>Region</th>\n",
       "    </tr>\n",
       "  </thead>\n",
       "  <tbody>\n",
       "    <tr>\n",
       "      <th>122</th>\n",
       "      <td>123</td>\n",
       "      <td>2</td>\n",
       "      <td>6</td>\n",
       "      <td>2012</td>\n",
       "      <td>30</td>\n",
       "      <td>73</td>\n",
       "      <td>13</td>\n",
       "      <td>4.0</td>\n",
       "      <td>55.7</td>\n",
       "      <td>2.7</td>\n",
       "      <td>7.8</td>\n",
       "      <td>0.6</td>\n",
       "      <td>2.9</td>\n",
       "      <td>0.2</td>\n",
       "      <td>not fire</td>\n",
       "      <td>1</td>\n",
       "    </tr>\n",
       "  </tbody>\n",
       "</table>\n",
       "</div>"
      ],
      "text/plain": [
       "     index  day  month  year  Temperature  RH  Ws  Rain  FFMC  DMC   DC  ISI  \\\n",
       "122    123    2      6  2012           30  73  13   4.0  55.7  2.7  7.8  0.6   \n",
       "\n",
       "     BUI  FWI      Classes  Region  \n",
       "122  2.9  0.2  not fire          1  "
      ]
     },
     "execution_count": 25,
     "metadata": {},
     "output_type": "execute_result"
    }
   ],
   "source": [
    "df.iloc[[122]]"
   ]
  },
  {
   "cell_type": "code",
   "execution_count": 26,
   "id": "25019feb",
   "metadata": {},
   "outputs": [],
   "source": [
    "df=df.drop(122).reset_index(drop=True)"
   ]
  },
  {
   "cell_type": "code",
   "execution_count": 27,
   "id": "f94a0b14",
   "metadata": {},
   "outputs": [
    {
     "data": {
      "text/plain": [
       "Index(['index', 'day', 'month', 'year', 'Temperature', 'RH', 'Ws', 'Rain',\n",
       "       'FFMC', 'DMC', 'DC', 'ISI', 'BUI', 'FWI', 'Classes', 'Region'],\n",
       "      dtype='object')"
      ]
     },
     "execution_count": 27,
     "metadata": {},
     "output_type": "execute_result"
    }
   ],
   "source": [
    "df.columns"
   ]
  },
  {
   "cell_type": "code",
   "execution_count": 28,
   "id": "1bc84761",
   "metadata": {},
   "outputs": [],
   "source": [
    "df.columns=df.columns.str.strip()"
   ]
  },
  {
   "cell_type": "code",
   "execution_count": 29,
   "id": "f0121ebd",
   "metadata": {},
   "outputs": [
    {
     "data": {
      "text/plain": [
       "Index(['index', 'day', 'month', 'year', 'Temperature', 'RH', 'Ws', 'Rain',\n",
       "       'FFMC', 'DMC', 'DC', 'ISI', 'BUI', 'FWI', 'Classes', 'Region'],\n",
       "      dtype='object')"
      ]
     },
     "execution_count": 29,
     "metadata": {},
     "output_type": "execute_result"
    }
   ],
   "source": [
    "df.columns"
   ]
  },
  {
   "cell_type": "code",
   "execution_count": 30,
   "id": "28723946",
   "metadata": {},
   "outputs": [
    {
     "name": "stdout",
     "output_type": "stream",
     "text": [
      "<class 'pandas.core.frame.DataFrame'>\n",
      "RangeIndex: 241 entries, 0 to 240\n",
      "Data columns (total 16 columns):\n",
      " #   Column       Non-Null Count  Dtype  \n",
      "---  ------       --------------  -----  \n",
      " 0   index        241 non-null    int64  \n",
      " 1   day          241 non-null    int64  \n",
      " 2   month        241 non-null    int64  \n",
      " 3   year         241 non-null    int64  \n",
      " 4   Temperature  241 non-null    int64  \n",
      " 5   RH           241 non-null    int64  \n",
      " 6   Ws           241 non-null    int64  \n",
      " 7   Rain         241 non-null    float64\n",
      " 8   FFMC         241 non-null    float64\n",
      " 9   DMC          241 non-null    float64\n",
      " 10  DC           241 non-null    float64\n",
      " 11  ISI          241 non-null    float64\n",
      " 12  BUI          241 non-null    float64\n",
      " 13  FWI          241 non-null    float64\n",
      " 14  Classes      241 non-null    object \n",
      " 15  Region       241 non-null    int32  \n",
      "dtypes: float64(7), int32(1), int64(7), object(1)\n",
      "memory usage: 29.3+ KB\n"
     ]
    }
   ],
   "source": [
    "df.info()"
   ]
  },
  {
   "cell_type": "code",
   "execution_count": 31,
   "id": "fa615579",
   "metadata": {},
   "outputs": [],
   "source": [
    "df[['day','month','year','Temperature','RH','Ws']]=df[['day','month','year','Temperature','RH','Ws']].astype(int)"
   ]
  },
  {
   "cell_type": "code",
   "execution_count": 32,
   "id": "04683999",
   "metadata": {},
   "outputs": [
    {
     "name": "stdout",
     "output_type": "stream",
     "text": [
      "<class 'pandas.core.frame.DataFrame'>\n",
      "RangeIndex: 241 entries, 0 to 240\n",
      "Data columns (total 16 columns):\n",
      " #   Column       Non-Null Count  Dtype  \n",
      "---  ------       --------------  -----  \n",
      " 0   index        241 non-null    int64  \n",
      " 1   day          241 non-null    int32  \n",
      " 2   month        241 non-null    int32  \n",
      " 3   year         241 non-null    int32  \n",
      " 4   Temperature  241 non-null    int32  \n",
      " 5   RH           241 non-null    int32  \n",
      " 6   Ws           241 non-null    int32  \n",
      " 7   Rain         241 non-null    float64\n",
      " 8   FFMC         241 non-null    float64\n",
      " 9   DMC          241 non-null    float64\n",
      " 10  DC           241 non-null    float64\n",
      " 11  ISI          241 non-null    float64\n",
      " 12  BUI          241 non-null    float64\n",
      " 13  FWI          241 non-null    float64\n",
      " 14  Classes      241 non-null    object \n",
      " 15  Region       241 non-null    int32  \n",
      "dtypes: float64(7), int32(7), int64(1), object(1)\n",
      "memory usage: 23.7+ KB\n"
     ]
    }
   ],
   "source": [
    "df.info()"
   ]
  },
  {
   "cell_type": "code",
   "execution_count": 37,
   "id": "75df3c12",
   "metadata": {},
   "outputs": [],
   "source": [
    "df_copy=df.drop(['index','day','month','year'],axis=1)"
   ]
  },
  {
   "cell_type": "code",
   "execution_count": 42,
   "id": "e47918ba",
   "metadata": {},
   "outputs": [
    {
     "data": {
      "text/plain": [
       "1    137\n",
       "0    104\n",
       "Name: Classes, dtype: int64"
      ]
     },
     "execution_count": 42,
     "metadata": {},
     "output_type": "execute_result"
    }
   ],
   "source": [
    "df_copy['Classes'].value_counts()"
   ]
  },
  {
   "cell_type": "code",
   "execution_count": 41,
   "id": "84d76f22",
   "metadata": {},
   "outputs": [],
   "source": [
    "df_copy['Classes']=np.where(df_copy['Classes'].str.contains('not fire'),0,1)"
   ]
  },
  {
   "cell_type": "code",
   "execution_count": 44,
   "id": "bd6f91cf",
   "metadata": {},
   "outputs": [
    {
     "data": {
      "text/html": [
       "<div>\n",
       "<style scoped>\n",
       "    .dataframe tbody tr th:only-of-type {\n",
       "        vertical-align: middle;\n",
       "    }\n",
       "\n",
       "    .dataframe tbody tr th {\n",
       "        vertical-align: top;\n",
       "    }\n",
       "\n",
       "    .dataframe thead th {\n",
       "        text-align: right;\n",
       "    }\n",
       "</style>\n",
       "<table border=\"1\" class=\"dataframe\">\n",
       "  <thead>\n",
       "    <tr style=\"text-align: right;\">\n",
       "      <th></th>\n",
       "      <th>Temperature</th>\n",
       "      <th>RH</th>\n",
       "      <th>Ws</th>\n",
       "      <th>Rain</th>\n",
       "      <th>FFMC</th>\n",
       "      <th>DMC</th>\n",
       "      <th>DC</th>\n",
       "      <th>ISI</th>\n",
       "      <th>BUI</th>\n",
       "      <th>FWI</th>\n",
       "      <th>Classes</th>\n",
       "      <th>Region</th>\n",
       "    </tr>\n",
       "  </thead>\n",
       "  <tbody>\n",
       "    <tr>\n",
       "      <th>236</th>\n",
       "      <td>30</td>\n",
       "      <td>65</td>\n",
       "      <td>14</td>\n",
       "      <td>0.0</td>\n",
       "      <td>85.4</td>\n",
       "      <td>16.0</td>\n",
       "      <td>44.5</td>\n",
       "      <td>4.5</td>\n",
       "      <td>16.9</td>\n",
       "      <td>6.5</td>\n",
       "      <td>1</td>\n",
       "      <td>1</td>\n",
       "    </tr>\n",
       "    <tr>\n",
       "      <th>237</th>\n",
       "      <td>28</td>\n",
       "      <td>87</td>\n",
       "      <td>15</td>\n",
       "      <td>4.4</td>\n",
       "      <td>41.1</td>\n",
       "      <td>6.5</td>\n",
       "      <td>8.0</td>\n",
       "      <td>0.1</td>\n",
       "      <td>6.2</td>\n",
       "      <td>0.0</td>\n",
       "      <td>0</td>\n",
       "      <td>1</td>\n",
       "    </tr>\n",
       "    <tr>\n",
       "      <th>238</th>\n",
       "      <td>27</td>\n",
       "      <td>87</td>\n",
       "      <td>29</td>\n",
       "      <td>0.5</td>\n",
       "      <td>45.9</td>\n",
       "      <td>3.5</td>\n",
       "      <td>7.9</td>\n",
       "      <td>0.4</td>\n",
       "      <td>3.4</td>\n",
       "      <td>0.2</td>\n",
       "      <td>0</td>\n",
       "      <td>1</td>\n",
       "    </tr>\n",
       "    <tr>\n",
       "      <th>239</th>\n",
       "      <td>24</td>\n",
       "      <td>54</td>\n",
       "      <td>18</td>\n",
       "      <td>0.1</td>\n",
       "      <td>79.7</td>\n",
       "      <td>4.3</td>\n",
       "      <td>15.2</td>\n",
       "      <td>1.7</td>\n",
       "      <td>5.1</td>\n",
       "      <td>0.7</td>\n",
       "      <td>0</td>\n",
       "      <td>1</td>\n",
       "    </tr>\n",
       "    <tr>\n",
       "      <th>240</th>\n",
       "      <td>24</td>\n",
       "      <td>64</td>\n",
       "      <td>15</td>\n",
       "      <td>0.2</td>\n",
       "      <td>67.3</td>\n",
       "      <td>3.8</td>\n",
       "      <td>16.5</td>\n",
       "      <td>1.2</td>\n",
       "      <td>4.8</td>\n",
       "      <td>0.5</td>\n",
       "      <td>0</td>\n",
       "      <td>1</td>\n",
       "    </tr>\n",
       "  </tbody>\n",
       "</table>\n",
       "</div>"
      ],
      "text/plain": [
       "     Temperature  RH  Ws  Rain  FFMC   DMC    DC  ISI   BUI  FWI  Classes  \\\n",
       "236           30  65  14   0.0  85.4  16.0  44.5  4.5  16.9  6.5        1   \n",
       "237           28  87  15   4.4  41.1   6.5   8.0  0.1   6.2  0.0        0   \n",
       "238           27  87  29   0.5  45.9   3.5   7.9  0.4   3.4  0.2        0   \n",
       "239           24  54  18   0.1  79.7   4.3  15.2  1.7   5.1  0.7        0   \n",
       "240           24  64  15   0.2  67.3   3.8  16.5  1.2   4.8  0.5        0   \n",
       "\n",
       "     Region  \n",
       "236       1  \n",
       "237       1  \n",
       "238       1  \n",
       "239       1  \n",
       "240       1  "
      ]
     },
     "execution_count": 44,
     "metadata": {},
     "output_type": "execute_result"
    }
   ],
   "source": [
    "df_copy.tail()"
   ]
  },
  {
   "cell_type": "code",
   "execution_count": 48,
   "id": "847b9d73",
   "metadata": {},
   "outputs": [
    {
     "data": {
      "image/png": "[encoded data removed]",
      "text/plain": [
       "<Figure size 1440x1080 with 12 Axes>"
      ]
     },
     "metadata": {},
     "output_type": "display_data"
    }
   ],
   "source": [
    "plt.style.use('seaborn')\n",
    "df_copy.hist(bins=50,figsize=(20,15))\n",
    "plt.show()"
   ]
  },
  {
   "cell_type": "code",
   "execution_count": 54,
   "id": "30cb67d2",
   "metadata": {},
   "outputs": [
    {
     "data": {
      "image/png": "[encoded data removed]",
      "text/plain": [
       "<Figure size 864x504 with 1 Axes>"
      ]
     },
     "metadata": {},
     "output_type": "display_data"
    }
   ],
   "source": [
    "perc=df_copy['Classes'].value_counts(normalize=True)*100\n",
    "classs=['fire','not fire']\n",
    "plt.figure(figsize=(12,7))\n",
    "plt.pie(perc,labels=classs,autopct='%1.1f%%')\n",
    "plt.show()"
   ]
  },
  {
   "cell_type": "code",
   "execution_count": 55,
   "id": "3ddef7b6",
   "metadata": {},
   "outputs": [
    {
     "data": {
      "text/html": [
       "<div>\n",
       "<style scoped>\n",
       "    .dataframe tbody tr th:only-of-type {\n",
       "        vertical-align: middle;\n",
       "    }\n",
       "\n",
       "    .dataframe tbody tr th {\n",
       "        vertical-align: top;\n",
       "    }\n",
       "\n",
       "    .dataframe thead th {\n",
       "        text-align: right;\n",
       "    }\n",
       "</style>\n",
       "<table border=\"1\" class=\"dataframe\">\n",
       "  <thead>\n",
       "    <tr style=\"text-align: right;\">\n",
       "      <th></th>\n",
       "      <th>Temperature</th>\n",
       "      <th>RH</th>\n",
       "      <th>Ws</th>\n",
       "      <th>Rain</th>\n",
       "      <th>FFMC</th>\n",
       "      <th>DMC</th>\n",
       "      <th>DC</th>\n",
       "      <th>ISI</th>\n",
       "      <th>BUI</th>\n",
       "      <th>FWI</th>\n",
       "      <th>Classes</th>\n",
       "      <th>Region</th>\n",
       "    </tr>\n",
       "  </thead>\n",
       "  <tbody>\n",
       "    <tr>\n",
       "      <th>Temperature</th>\n",
       "      <td>1.000000</td>\n",
       "      <td>-0.653199</td>\n",
       "      <td>-0.285072</td>\n",
       "      <td>-0.326485</td>\n",
       "      <td>0.675607</td>\n",
       "      <td>0.482889</td>\n",
       "      <td>0.372999</td>\n",
       "      <td>0.601901</td>\n",
       "      <td>0.456790</td>\n",
       "      <td>0.564420</td>\n",
       "      <td>0.513041</td>\n",
       "      <td>0.270596</td>\n",
       "    </tr>\n",
       "    <tr>\n",
       "      <th>RH</th>\n",
       "      <td>-0.653199</td>\n",
       "      <td>1.000000</td>\n",
       "      <td>0.249165</td>\n",
       "      <td>0.218425</td>\n",
       "      <td>-0.646394</td>\n",
       "      <td>-0.408895</td>\n",
       "      <td>-0.226529</td>\n",
       "      <td>-0.688126</td>\n",
       "      <td>-0.354002</td>\n",
       "      <td>-0.582130</td>\n",
       "      <td>-0.433194</td>\n",
       "      <td>-0.414437</td>\n",
       "    </tr>\n",
       "    <tr>\n",
       "      <th>Ws</th>\n",
       "      <td>-0.285072</td>\n",
       "      <td>0.249165</td>\n",
       "      <td>1.000000</td>\n",
       "      <td>0.180452</td>\n",
       "      <td>-0.170747</td>\n",
       "      <td>-0.000918</td>\n",
       "      <td>0.079681</td>\n",
       "      <td>0.007983</td>\n",
       "      <td>0.031549</td>\n",
       "      <td>0.032451</td>\n",
       "      <td>-0.070552</td>\n",
       "      <td>-0.164804</td>\n",
       "    </tr>\n",
       "    <tr>\n",
       "      <th>Rain</th>\n",
       "      <td>-0.326485</td>\n",
       "      <td>0.218425</td>\n",
       "      <td>0.180452</td>\n",
       "      <td>1.000000</td>\n",
       "      <td>-0.541466</td>\n",
       "      <td>-0.286398</td>\n",
       "      <td>-0.296173</td>\n",
       "      <td>-0.345272</td>\n",
       "      <td>-0.297632</td>\n",
       "      <td>-0.322559</td>\n",
       "      <td>-0.377438</td>\n",
       "      <td>-0.048531</td>\n",
       "    </tr>\n",
       "    <tr>\n",
       "      <th>FFMC</th>\n",
       "      <td>0.675607</td>\n",
       "      <td>-0.646394</td>\n",
       "      <td>-0.170747</td>\n",
       "      <td>-0.541466</td>\n",
       "      <td>1.000000</td>\n",
       "      <td>0.600261</td>\n",
       "      <td>0.503545</td>\n",
       "      <td>0.738023</td>\n",
       "      <td>0.588505</td>\n",
       "      <td>0.688893</td>\n",
       "      <td>0.767261</td>\n",
       "      <td>0.239708</td>\n",
       "    </tr>\n",
       "    <tr>\n",
       "      <th>DMC</th>\n",
       "      <td>0.482889</td>\n",
       "      <td>-0.408895</td>\n",
       "      <td>-0.000918</td>\n",
       "      <td>-0.286398</td>\n",
       "      <td>0.600261</td>\n",
       "      <td>1.000000</td>\n",
       "      <td>0.875087</td>\n",
       "      <td>0.678161</td>\n",
       "      <td>0.982116</td>\n",
       "      <td>0.874991</td>\n",
       "      <td>0.582045</td>\n",
       "      <td>0.202112</td>\n",
       "    </tr>\n",
       "    <tr>\n",
       "      <th>DC</th>\n",
       "      <td>0.372999</td>\n",
       "      <td>-0.226529</td>\n",
       "      <td>0.079681</td>\n",
       "      <td>-0.296173</td>\n",
       "      <td>0.503545</td>\n",
       "      <td>0.875087</td>\n",
       "      <td>1.000000</td>\n",
       "      <td>0.505368</td>\n",
       "      <td>0.941607</td>\n",
       "      <td>0.737805</td>\n",
       "      <td>0.507187</td>\n",
       "      <td>-0.072059</td>\n",
       "    </tr>\n",
       "    <tr>\n",
       "      <th>ISI</th>\n",
       "      <td>0.601901</td>\n",
       "      <td>-0.688126</td>\n",
       "      <td>0.007983</td>\n",
       "      <td>-0.345272</td>\n",
       "      <td>0.738023</td>\n",
       "      <td>0.678161</td>\n",
       "      <td>0.505368</td>\n",
       "      <td>1.000000</td>\n",
       "      <td>0.641509</td>\n",
       "      <td>0.922380</td>\n",
       "      <td>0.733066</td>\n",
       "      <td>0.274318</td>\n",
       "    </tr>\n",
       "    <tr>\n",
       "      <th>BUI</th>\n",
       "      <td>0.456790</td>\n",
       "      <td>-0.354002</td>\n",
       "      <td>0.031549</td>\n",
       "      <td>-0.297632</td>\n",
       "      <td>0.588505</td>\n",
       "      <td>0.982116</td>\n",
       "      <td>0.941607</td>\n",
       "      <td>0.641509</td>\n",
       "      <td>1.000000</td>\n",
       "      <td>0.856964</td>\n",
       "      <td>0.582970</td>\n",
       "      <td>0.098486</td>\n",
       "    </tr>\n",
       "    <tr>\n",
       "      <th>FWI</th>\n",
       "      <td>0.564420</td>\n",
       "      <td>-0.582130</td>\n",
       "      <td>0.032451</td>\n",
       "      <td>-0.322559</td>\n",
       "      <td>0.688893</td>\n",
       "      <td>0.874991</td>\n",
       "      <td>0.737805</td>\n",
       "      <td>0.922380</td>\n",
       "      <td>0.856964</td>\n",
       "      <td>1.000000</td>\n",
       "      <td>0.716981</td>\n",
       "      <td>0.206496</td>\n",
       "    </tr>\n",
       "    <tr>\n",
       "      <th>Classes</th>\n",
       "      <td>0.513041</td>\n",
       "      <td>-0.433194</td>\n",
       "      <td>-0.070552</td>\n",
       "      <td>-0.377438</td>\n",
       "      <td>0.767261</td>\n",
       "      <td>0.582045</td>\n",
       "      <td>0.507187</td>\n",
       "      <td>0.733066</td>\n",
       "      <td>0.582970</td>\n",
       "      <td>0.716981</td>\n",
       "      <td>1.000000</td>\n",
       "      <td>0.173476</td>\n",
       "    </tr>\n",
       "    <tr>\n",
       "      <th>Region</th>\n",
       "      <td>0.270596</td>\n",
       "      <td>-0.414437</td>\n",
       "      <td>-0.164804</td>\n",
       "      <td>-0.048531</td>\n",
       "      <td>0.239708</td>\n",
       "      <td>0.202112</td>\n",
       "      <td>-0.072059</td>\n",
       "      <td>0.274318</td>\n",
       "      <td>0.098486</td>\n",
       "      <td>0.206496</td>\n",
       "      <td>0.173476</td>\n",
       "      <td>1.000000</td>\n",
       "    </tr>\n",
       "  </tbody>\n",
       "</table>\n",
       "</div>"
      ],
      "text/plain": [
       "             Temperature        RH        Ws      Rain      FFMC       DMC  \\\n",
       "Temperature     1.000000 -0.653199 -0.285072 -0.326485  0.675607  0.482889   \n",
       "RH             -0.653199  1.000000  0.249165  0.218425 -0.646394 -0.408895   \n",
       "Ws             -0.285072  0.249165  1.000000  0.180452 -0.170747 -0.000918   \n",
       "Rain           -0.326485  0.218425  0.180452  1.000000 -0.541466 -0.286398   \n",
       "FFMC            0.675607 -0.646394 -0.170747 -0.541466  1.000000  0.600261   \n",
       "DMC             0.482889 -0.408895 -0.000918 -0.286398  0.600261  1.000000   \n",
       "DC              0.372999 -0.226529  0.079681 -0.296173  0.503545  0.875087   \n",
       "ISI             0.601901 -0.688126  0.007983 -0.345272  0.738023  0.678161   \n",
       "BUI             0.456790 -0.354002  0.031549 -0.297632  0.588505  0.982116   \n",
       "FWI             0.564420 -0.582130  0.032451 -0.322559  0.688893  0.874991   \n",
       "Classes         0.513041 -0.433194 -0.070552 -0.377438  0.767261  0.582045   \n",
       "Region          0.270596 -0.414437 -0.164804 -0.048531  0.239708  0.202112   \n",
       "\n",
       "                   DC       ISI       BUI       FWI   Classes    Region  \n",
       "Temperature  0.372999  0.601901  0.456790  0.564420  0.513041  0.270596  \n",
       "RH          -0.226529 -0.688126 -0.354002 -0.582130 -0.433194 -0.414437  \n",
       "Ws           0.079681  0.007983  0.031549  0.032451 -0.070552 -0.164804  \n",
       "Rain        -0.296173 -0.345272 -0.297632 -0.322559 -0.377438 -0.048531  \n",
       "FFMC         0.503545  0.738023  0.588505  0.688893  0.767261  0.239708  \n",
       "DMC          0.875087  0.678161  0.982116  0.874991  0.582045  0.202112  \n",
       "DC           1.000000  0.505368  0.941607  0.737805  0.507187 -0.072059  \n",
       "ISI          0.505368  1.000000  0.641509  0.922380  0.733066  0.274318  \n",
       "BUI          0.941607  0.641509  1.000000  0.856964  0.582970  0.098486  \n",
       "FWI          0.737805  0.922380  0.856964  1.000000  0.716981  0.206496  \n",
       "Classes      0.507187  0.733066  0.582970  0.716981  1.000000  0.173476  \n",
       "Region      -0.072059  0.274318  0.098486  0.206496  0.173476  1.000000  "
      ]
     },
     "execution_count": 55,
     "metadata": {},
     "output_type": "execute_result"
    }
   ],
   "source": [
    "df_copy.corr()"
   ]
  },
  {
   "cell_type": "code",
   "execution_count": 57,
   "id": "0f430142",
   "metadata": {},
   "outputs": [
    {
     "data": {
      "text/plain": [
       "<AxesSubplot:>"
      ]
     },
     "execution_count": 57,
     "metadata": {},
     "output_type": "execute_result"
    },
    {
     "data": {
      "image/png": "[encoded data removed]",
      "text/plain": [
       "<Figure size 576x396 with 2 Axes>"
      ]
     },
     "metadata": {},
     "output_type": "display_data"
    }
   ],
   "source": [
    "sns.heatmap(df_copy.corr())"
   ]
  },
  {
   "cell_type": "code",
   "execution_count": 58,
   "id": "3c70ffcc",
   "metadata": {},
   "outputs": [],
   "source": [
    "df_new=df_copy"
   ]
  },
  {
   "cell_type": "code",
   "execution_count": 59,
   "id": "1551c545",
   "metadata": {},
   "outputs": [
    {
     "data": {
      "text/html": [
       "<div>\n",
       "<style scoped>\n",
       "    .dataframe tbody tr th:only-of-type {\n",
       "        vertical-align: middle;\n",
       "    }\n",
       "\n",
       "    .dataframe tbody tr th {\n",
       "        vertical-align: top;\n",
       "    }\n",
       "\n",
       "    .dataframe thead th {\n",
       "        text-align: right;\n",
       "    }\n",
       "</style>\n",
       "<table border=\"1\" class=\"dataframe\">\n",
       "  <thead>\n",
       "    <tr style=\"text-align: right;\">\n",
       "      <th></th>\n",
       "      <th>Temperature</th>\n",
       "      <th>RH</th>\n",
       "      <th>Ws</th>\n",
       "      <th>Rain</th>\n",
       "      <th>FFMC</th>\n",
       "      <th>DMC</th>\n",
       "      <th>DC</th>\n",
       "      <th>ISI</th>\n",
       "      <th>BUI</th>\n",
       "      <th>FWI</th>\n",
       "      <th>Classes</th>\n",
       "      <th>Region</th>\n",
       "    </tr>\n",
       "  </thead>\n",
       "  <tbody>\n",
       "    <tr>\n",
       "      <th>236</th>\n",
       "      <td>30</td>\n",
       "      <td>65</td>\n",
       "      <td>14</td>\n",
       "      <td>0.0</td>\n",
       "      <td>85.4</td>\n",
       "      <td>16.0</td>\n",
       "      <td>44.5</td>\n",
       "      <td>4.5</td>\n",
       "      <td>16.9</td>\n",
       "      <td>6.5</td>\n",
       "      <td>1</td>\n",
       "      <td>1</td>\n",
       "    </tr>\n",
       "    <tr>\n",
       "      <th>237</th>\n",
       "      <td>28</td>\n",
       "      <td>87</td>\n",
       "      <td>15</td>\n",
       "      <td>4.4</td>\n",
       "      <td>41.1</td>\n",
       "      <td>6.5</td>\n",
       "      <td>8.0</td>\n",
       "      <td>0.1</td>\n",
       "      <td>6.2</td>\n",
       "      <td>0.0</td>\n",
       "      <td>0</td>\n",
       "      <td>1</td>\n",
       "    </tr>\n",
       "    <tr>\n",
       "      <th>238</th>\n",
       "      <td>27</td>\n",
       "      <td>87</td>\n",
       "      <td>29</td>\n",
       "      <td>0.5</td>\n",
       "      <td>45.9</td>\n",
       "      <td>3.5</td>\n",
       "      <td>7.9</td>\n",
       "      <td>0.4</td>\n",
       "      <td>3.4</td>\n",
       "      <td>0.2</td>\n",
       "      <td>0</td>\n",
       "      <td>1</td>\n",
       "    </tr>\n",
       "    <tr>\n",
       "      <th>239</th>\n",
       "      <td>24</td>\n",
       "      <td>54</td>\n",
       "      <td>18</td>\n",
       "      <td>0.1</td>\n",
       "      <td>79.7</td>\n",
       "      <td>4.3</td>\n",
       "      <td>15.2</td>\n",
       "      <td>1.7</td>\n",
       "      <td>5.1</td>\n",
       "      <td>0.7</td>\n",
       "      <td>0</td>\n",
       "      <td>1</td>\n",
       "    </tr>\n",
       "    <tr>\n",
       "      <th>240</th>\n",
       "      <td>24</td>\n",
       "      <td>64</td>\n",
       "      <td>15</td>\n",
       "      <td>0.2</td>\n",
       "      <td>67.3</td>\n",
       "      <td>3.8</td>\n",
       "      <td>16.5</td>\n",
       "      <td>1.2</td>\n",
       "      <td>4.8</td>\n",
       "      <td>0.5</td>\n",
       "      <td>0</td>\n",
       "      <td>1</td>\n",
       "    </tr>\n",
       "  </tbody>\n",
       "</table>\n",
       "</div>"
      ],
      "text/plain": [
       "     Temperature  RH  Ws  Rain  FFMC   DMC    DC  ISI   BUI  FWI  Classes  \\\n",
       "236           30  65  14   0.0  85.4  16.0  44.5  4.5  16.9  6.5        1   \n",
       "237           28  87  15   4.4  41.1   6.5   8.0  0.1   6.2  0.0        0   \n",
       "238           27  87  29   0.5  45.9   3.5   7.9  0.4   3.4  0.2        0   \n",
       "239           24  54  18   0.1  79.7   4.3  15.2  1.7   5.1  0.7        0   \n",
       "240           24  64  15   0.2  67.3   3.8  16.5  1.2   4.8  0.5        0   \n",
       "\n",
       "     Region  \n",
       "236       1  \n",
       "237       1  \n",
       "238       1  \n",
       "239       1  \n",
       "240       1  "
      ]
     },
     "execution_count": 59,
     "metadata": {},
     "output_type": "execute_result"
    }
   ],
   "source": [
    "df_new.tail()"
   ]
  },
  {
   "cell_type": "code",
   "execution_count": 69,
   "id": "92b0c5ce",
   "metadata": {},
   "outputs": [],
   "source": [
    "X=df_new.drop('FWI',axis=1)\n",
    "y=df_new['FWI']"
   ]
  },
  {
   "cell_type": "code",
   "execution_count": 70,
   "id": "46cb3b77",
   "metadata": {},
   "outputs": [
    {
     "data": {
      "text/plain": [
       "0    0.4\n",
       "1    0.1\n",
       "2    0.0\n",
       "3    0.5\n",
       "4    2.5\n",
       "Name: FWI, dtype: float64"
      ]
     },
     "execution_count": 70,
     "metadata": {},
     "output_type": "execute_result"
    }
   ],
   "source": [
    "y.head()"
   ]
  },
  {
   "cell_type": "code",
   "execution_count": 110,
   "id": "331c90b6",
   "metadata": {},
   "outputs": [],
   "source": [
    "from sklearn.preprocessing import StandardScaler\n",
    "from sklearn.model_selection import train_test_split\n",
    "from sklearn.linear_model import LinearRegression,Lasso,ElasticNet,Ridge,LassoCV\n",
    "from sklearn.metrics import mean_absolute_error,r2_score"
   ]
  },
  {
   "cell_type": "code",
   "execution_count": 86,
   "id": "9bb59a39",
   "metadata": {},
   "outputs": [],
   "source": [
    "X_train,X_test,y_train,y_test=train_test_split(X,y,test_size=0.25,random_state=42)"
   ]
  },
  {
   "cell_type": "code",
   "execution_count": 87,
   "id": "bf1dffa9",
   "metadata": {},
   "outputs": [
    {
     "data": {
      "text/plain": [
       "((180, 11), (61, 11))"
      ]
     },
     "execution_count": 87,
     "metadata": {},
     "output_type": "execute_result"
    }
   ],
   "source": [
    "X_train.shape,X_test.shape\n"
   ]
  },
  {
   "cell_type": "code",
   "execution_count": 88,
   "id": "e6a2c80a",
   "metadata": {},
   "outputs": [],
   "source": [
    "scaler=StandardScaler()"
   ]
  },
  {
   "cell_type": "code",
   "execution_count": 89,
   "id": "1cac1237",
   "metadata": {},
   "outputs": [],
   "source": [
    "X_train_sc=scaler.fit_transform(X_train)\n",
    "X_test_sc=scaler.transform(X_test)"
   ]
  },
  {
   "cell_type": "code",
   "execution_count": 90,
   "id": "ab1a1d2f",
   "metadata": {},
   "outputs": [
    {
     "data": {
      "text/plain": [
       "array([[-2.93496276e-01,  8.99765615e-02,  9.12242879e-01,\n",
       "        -3.58139761e-01,  6.27532961e-01,  2.62307124e-01,\n",
       "         4.89844050e-01,  4.73665180e-01,  3.49739967e-01,\n",
       "         9.04534034e-01, -9.78019294e-01],\n",
       "       [-5.57642923e-01,  6.82505137e-01, -2.07327927e-01,\n",
       "        -3.58139761e-01,  6.13739344e-01, -2.00906489e-01,\n",
       "        -2.23572761e-01,  2.10665444e-01, -2.20513748e-01,\n",
       "         9.04534034e-01, -9.78019294e-01],\n",
       "       [-2.93496276e-01,  6.16668629e-01, -5.80518196e-01,\n",
       "        -3.58139761e-01,  4.48215935e-01, -5.09715564e-01,\n",
       "        -5.02550678e-01, -2.19697759e-01, -5.30281198e-01,\n",
       "         9.04534034e-01,  1.02247472e+00],\n",
       "       [ 7.63090316e-01, -6.34225031e-01,  5.39052610e-01,\n",
       "        -1.19025677e-01,  1.72343586e-01,  4.97977207e-01,\n",
       "         2.13815632e+00, -4.82697494e-01,  9.83355206e-01,\n",
       "         9.04534034e-01,  1.02247472e+00],\n",
       "       [-5.57642923e-01,  1.55813070e-01, -5.80518196e-01,\n",
       "        -3.58139761e-01,  5.30977639e-01,  1.16029141e-01,\n",
       "        -9.15374107e-02, -5.23342907e-02,  1.88520090e-02,\n",
       "         9.04534034e-01,  1.02247472e+00],\n",
       "       [ 1.81967691e+00,  8.99765615e-02, -2.44646954e+00,\n",
       "         2.15734040e-01, -2.69052171e-01, -2.33412707e-01,\n",
       "        -7.00603703e-01, -8.65242563e-01, -3.68357304e-01,\n",
       "        -1.10554160e+00,  1.02247472e+00],\n",
       "       [ 1.29138361e+00, -1.68760917e+00, -5.80518196e-01,\n",
       "        -3.58139761e-01,  1.14479361e+00,  1.73321351e+00,\n",
       "         8.09284414e-01,  2.69720840e+00,  1.35648418e+00,\n",
       "         9.04534034e-01,  1.02247472e+00],\n",
       "       [-8.21789571e-01,  7.48341646e-01, -2.07327927e-01,\n",
       "         1.67911223e-01, -1.25529582e+00, -8.02271530e-01,\n",
       "        -8.64583090e-01, -9.36969764e-01, -8.47088818e-01,\n",
       "        -1.10554160e+00,  1.02247472e+00],\n",
       "       [-2.93496276e-01,  1.55813070e-01, -5.80518196e-01,\n",
       "        -3.58139761e-01,  4.68906361e-01, -1.68400271e-01,\n",
       "         1.17163627e-01, -1.71879625e-01, -5.85898536e-02,\n",
       "         9.04534034e-01, -9.78019294e-01],\n",
       "       [-2.93496276e-02, -5.68388523e-01, -1.70008900e+00,\n",
       "        -1.19025677e-01, -2.75948979e-01, -5.42221783e-01,\n",
       "        -3.91811352e-01, -8.41333496e-01, -4.95080352e-01,\n",
       "        -1.10554160e+00, -9.78019294e-01],\n",
       "       [-8.21789571e-01,  4.84995612e-01, -5.80518196e-01,\n",
       "        -3.58139761e-01,  3.51660613e-01, -4.20323463e-01,\n",
       "        -3.13016063e-01, -3.63152160e-01, -3.89477812e-01,\n",
       "         9.04534034e-01, -9.78019294e-01],\n",
       "       [ 7.63090316e-01, -4.36715506e-01, -5.80518196e-01,\n",
       "        -1.66848494e-01,  1.03375499e-01,  1.82260561e+00,\n",
       "         2.49592953e+00, -6.26151895e-01,  9.83355206e-01,\n",
       "        -1.10554160e+00,  1.02247472e+00],\n",
       "       [-2.93496276e-02, -7.65898048e-01, -9.53708464e-01,\n",
       "        -3.58139761e-01,  7.58572326e-01,  1.16029141e-01,\n",
       "         2.98499273e-02,  5.21483313e-01,  8.22135329e-02,\n",
       "         9.04534034e-01,  1.02247472e+00],\n",
       "       [ 4.98943668e-01, -8.97571065e-01, -2.07327927e-01,\n",
       "        -3.58139761e-01,  7.93056370e-01,  8.31165946e-01,\n",
       "         2.34898696e+00,  8.08392115e-01,  1.34240384e+00,\n",
       "         9.04534034e-01,  1.02247472e+00],\n",
       "       [ 1.02723696e+00, -6.34225031e-01,  1.65862342e-01,\n",
       "        -3.58139761e-01,  8.13746796e-01,  1.87136494e+00,\n",
       "         2.40009742e+00,  1.35830065e+00,  2.17314382e+00,\n",
       "         9.04534034e-01, -9.78019294e-01],\n",
       "       [ 4.98943668e-01,  4.84995612e-01,  1.65862342e-01,\n",
       "        -3.58139761e-01,  5.72358491e-01, -1.44020607e-01,\n",
       "        -4.94032268e-01,  1.62847311e-01, -2.76835103e-01,\n",
       "         9.04534034e-01,  1.02247472e+00],\n",
       "       [ 4.98943668e-01,  2.41400531e-02, -9.53708464e-01,\n",
       "         1.02872192e+00, -5.51821328e-01, -5.99107665e-01,\n",
       "        -8.30509451e-01, -8.41333496e-01, -6.85164923e-01,\n",
       "        -1.10554160e+00,  1.02247472e+00],\n",
       "       [-5.57642923e-01,  1.73588927e+00,  1.65862342e-01,\n",
       "        -7.12028605e-02, -2.78638735e+00, -1.09482750e+00,\n",
       "        -8.73101499e-01, -1.12824230e+00, -1.05829390e+00,\n",
       "        -1.10554160e+00, -9.78019294e-01],\n",
       "       [-2.93496276e-02,  4.19159104e-01,  1.65862342e-01,\n",
       "        -3.58139761e-01,  6.06842535e-01,  7.53963678e-02,\n",
       "        -4.22371147e-03,  1.86756378e-01,  3.99725169e-02,\n",
       "         9.04534034e-01, -9.78019294e-01],\n",
       "       [-1.08593622e+00, -7.65898048e-01,  5.39052610e-01,\n",
       "         2.63556857e-01, -4.34575580e-01, -5.58474892e-01,\n",
       "        -8.81619909e-01, -7.69606296e-01, -6.57004246e-01,\n",
       "        -1.10554160e+00,  1.02247472e+00],\n",
       "       [ 2.34797020e-01,  2.21649578e-01, -5.80518196e-01,\n",
       "        -3.58139761e-01,  5.65461683e-01, -5.66601446e-01,\n",
       "        -4.45051413e-01,  1.93929098e-02, -5.30281198e-01,\n",
       "         9.04534034e-01, -9.78019294e-01],\n",
       "       [-5.57642923e-01,  1.01168768e+00, -5.80518196e-01,\n",
       "        -3.58139761e-01,  2.27518056e-01, -6.72246656e-01,\n",
       "        -3.66256123e-01, -5.06606561e-01, -5.79562384e-01,\n",
       "         9.04534034e-01, -9.78019294e-01],\n",
       "       [-2.93496276e-02, -8.97571065e-01, -1.70008900e+00,\n",
       "        -3.58139761e-01,  8.06849987e-01, -3.87817245e-01,\n",
       "        -3.34312087e-01,  4.97574247e-01, -3.75397473e-01,\n",
       "         9.04534034e-01, -9.78019294e-01],\n",
       "       [-1.35008287e+00,  8.14178154e-01,  1.28543315e+00,\n",
       "         2.15734040e-01, -1.51737455e+00, -9.89182286e-01,\n",
       "        -8.62453487e-01, -9.36969764e-01, -9.73811866e-01,\n",
       "        -1.10554160e+00, -9.78019294e-01],\n",
       "       [ 1.55553026e+00, -1.81928218e+00, -2.07327927e-01,\n",
       "        -3.58139761e-01,  1.11030957e+00,  6.84887964e-01,\n",
       "        -1.29870254e-01,  2.62548120e+00,  4.41262168e-01,\n",
       "         9.04534034e-01,  1.02247472e+00],\n",
       "       [-2.93496276e-02, -9.63407573e-01,  9.12242879e-01,\n",
       "        -3.58139761e-01,  9.51682970e-01,  2.40771754e+00,\n",
       "         8.79561293e-01,  2.02775452e+00,  1.92673790e+00,\n",
       "         9.04534034e-01,  1.02247472e+00],\n",
       "       [-1.61422952e+00,  1.20919720e+00,  1.28543315e+00,\n",
       "        -3.58139761e-01,  4.34422317e-01, -6.27550606e-02,\n",
       "         2.68365398e-01,  1.93929098e-02,  7.51733636e-02,\n",
       "         9.04534034e-01, -9.78019294e-01],\n",
       "       [ 2.34797020e-01,  2.21649578e-01, -5.80518196e-01,\n",
       "        -3.58139761e-01,  6.41326578e-01,  5.79242754e-01,\n",
       "         9.77523005e-01,  2.34574511e-01,  7.43989449e-01,\n",
       "         9.04534034e-01, -9.78019294e-01],\n",
       "       [-1.87837616e+00,  1.01168768e+00, -2.07327927e-01,\n",
       "         1.45912728e+00, -2.42085649e+00, -1.08670094e+00,\n",
       "        -8.79490307e-01, -1.10433323e+00, -1.05125373e+00,\n",
       "        -1.10554160e+00, -9.78019294e-01],\n",
       "       [ 4.98943668e-01, -1.16091710e+00,  9.12242879e-01,\n",
       "        -3.58139761e-01,  8.82714883e-01,  3.35446115e-01,\n",
       "        -5.10749647e-02,  1.57348225e+00,  1.45575057e-01,\n",
       "         9.04534034e-01,  1.02247472e+00],\n",
       "       [-2.93496276e-01, -5.02552014e-01, -1.70008900e+00,\n",
       "        -3.58139761e-01,  6.96501048e-01,  1.56661914e-01,\n",
       "         1.93829314e-01,  1.62847311e-01,  1.80775903e-01,\n",
       "         9.04534034e-01, -9.78019294e-01],\n",
       "       [-5.57642923e-01, -3.05042489e-01, -1.32689873e+00,\n",
       "         1.60259573e+00, -8.00106441e-01, -8.59157412e-01,\n",
       "        -8.60323885e-01, -8.89151630e-01, -8.96370003e-01,\n",
       "        -1.10554160e+00,  1.02247472e+00],\n",
       "       [ 4.98943668e-01, -6.34225031e-01,  9.12242879e-01,\n",
       "        -3.58139761e-01,  7.79262752e-01,  5.71116199e-01,\n",
       "         6.70860256e-01,  1.07139185e+00,  6.45427079e-01,\n",
       "         9.04534034e-01, -9.78019294e-01],\n",
       "       [ 1.02723696e+00, -1.16091710e+00, -5.80518196e-01,\n",
       "        -3.58139761e-01,  7.57882645e-02, -7.94144975e-01,\n",
       "        -8.21991041e-01, -6.50060962e-01, -8.40048648e-01,\n",
       "        -1.10554160e+00, -9.78019294e-01],\n",
       "       [-5.57642923e-01,  1.14336070e+00,  1.65862342e-01,\n",
       "        -1.66848494e-01, -1.23460539e+00, -9.07916740e-01,\n",
       "        -4.62088232e-01, -9.13060697e-01, -8.11887971e-01,\n",
       "        -1.10554160e+00, -9.78019294e-01],\n",
       "       [ 7.63090316e-01, -1.22675361e+00,  5.39052610e-01,\n",
       "        -2.62494127e-01,  5.44771257e-01, -3.79690690e-01,\n",
       "        -4.23755388e-01,  1.62847311e-01, -4.17638489e-01,\n",
       "         9.04534034e-01,  1.02247472e+00],\n",
       "       [-8.21789571e-01,  7.48341646e-01,  1.28543315e+00,\n",
       "        -3.10316944e-01, -1.31115997e-01, -8.91663631e-01,\n",
       "        -3.53478509e-01, -6.26151895e-01, -7.76687125e-01,\n",
       "        -1.10554160e+00, -9.78019294e-01],\n",
       "       [ 7.63090316e-01, -1.09508059e+00, -9.53708464e-01,\n",
       "        -2.14671311e-01,  4.27525509e-01,  1.89168132e-01,\n",
       "         1.15034024e-01, -2.91424959e-01,  1.66695565e-01,\n",
       "         9.04534034e-01,  1.02247472e+00],\n",
       "       [ 2.34797020e-01, -4.16964553e-02, -2.07327927e+00,\n",
       "         3.80244530e+00, -8.41487293e-01, -8.10398085e-01,\n",
       "        -8.62453487e-01, -9.13060697e-01, -8.61169156e-01,\n",
       "        -1.10554160e+00,  1.02247472e+00],\n",
       "       [-1.35008287e+00,  1.60421626e+00,  5.01733583e+00,\n",
       "        -1.19025677e-01, -2.19326180e+00, -8.99790185e-01,\n",
       "        -8.70971897e-01, -1.03260603e+00, -9.31570850e-01,\n",
       "        -1.10554160e+00,  1.02247472e+00],\n",
       "       [ 1.02723696e+00, -1.07532964e-01,  9.12242879e-01,\n",
       "        -2.14671311e-01,  1.72343586e-01, -2.33412707e-01,\n",
       "         8.85950101e-01, -4.58788427e-01,  6.81331942e-02,\n",
       "         9.04534034e-01, -9.78019294e-01],\n",
       "       [-2.93496276e-01,  2.21649578e-01, -1.70008900e+00,\n",
       "        -3.58139761e-01,  5.51668065e-01, -5.09715564e-01,\n",
       "        -5.08939485e-01, -1.71879625e-01, -5.37321368e-01,\n",
       "         9.04534034e-01, -9.78019294e-01],\n",
       "       [-2.93496276e-01, -8.31734556e-01,  1.28543315e+00,\n",
       "        -7.12028605e-02,  6.82017750e-03, -3.22804808e-01,\n",
       "        -1.57555086e-01, -5.54424694e-01, -2.62754764e-01,\n",
       "        -1.10554160e+00, -9.78019294e-01],\n",
       "       [-2.93496276e-01,  1.01168768e+00, -5.80518196e-01,\n",
       "        -2.14671311e-01, -1.43461284e+00, -1.02981506e+00,\n",
       "        -8.68842295e-01, -9.60878831e-01, -1.00197254e+00,\n",
       "        -1.10554160e+00, -9.78019294e-01],\n",
       "       [ 1.29138361e+00, -1.49009964e+00, -9.53708464e-01,\n",
       "        -3.58139761e-01,  9.79270205e-01,  6.28002081e-01,\n",
       "         1.42718856e-01,  1.45393692e+00,  3.99021152e-01,\n",
       "         9.04534034e-01,  1.02247472e+00],\n",
       "       [-2.93496276e-02, -1.73369472e-01,  9.12242879e-01,\n",
       "        -2.14671311e-01, -4.14574834e-02, -2.65918926e-01,\n",
       "        -3.82973502e-02, -6.02242828e-01, -1.78272732e-01,\n",
       "        -1.10554160e+00, -9.78019294e-01],\n",
       "       [ 4.98943668e-01, -1.22675361e+00, -1.32689873e+00,\n",
       "        -3.58139761e-01,  1.02065106e+00,  8.63672165e-01,\n",
       "         3.08827844e-01,  1.54957319e+00,  6.73587756e-01,\n",
       "         9.04534034e-01,  1.02247472e+00],\n",
       "       [ 2.34797020e-01,  4.19159104e-01, -9.53708464e-01,\n",
       "        -2.33800437e-02, -7.65622397e-01, -6.96626320e-01,\n",
       "        -8.41157463e-01, -8.65242563e-01, -7.62606786e-01,\n",
       "        -1.10554160e+00, -9.78019294e-01],\n",
       "       [ 1.02723696e+00, -4.36715506e-01,  1.65862342e-01,\n",
       "        -3.58139761e-01,  7.72365944e-01,  7.49900400e-01,\n",
       "         1.76792494e-01,  8.32301182e-01,  5.04623692e-01,\n",
       "         9.04534034e-01,  1.02247472e+00],\n",
       "       [-1.61422952e+00,  1.20919720e+00,  2.03181368e+00,\n",
       "         2.41558361e+00, -2.00704796e+00, -9.40422958e-01,\n",
       "        -8.75231102e-01, -1.03260603e+00, -9.59731527e-01,\n",
       "        -1.10554160e+00, -9.78019294e-01],\n",
       "       [ 2.34797020e-01, -1.68760917e+00,  1.65862342e-01,\n",
       "        -3.58139761e-01,  9.99960631e-01,  3.79735838e+00,\n",
       "         2.52148476e+00,  2.00384546e+00,  3.33477176e+00,\n",
       "         9.04534034e-01,  1.02247472e+00],\n",
       "       [ 4.98943668e-01,  5.50832120e-01, -5.80518196e-01,\n",
       "         2.75034333e+00, -9.10455380e-01, -9.16043295e-01,\n",
       "        -8.45416668e-01, -8.89151630e-01, -9.24530680e-01,\n",
       "        -1.10554160e+00,  1.02247472e+00],\n",
       "       [-5.57642923e-01, -7.00061540e-01, -2.07327927e-01,\n",
       "         5.98316574e-01, -3.72504301e-01, -2.57792371e-01,\n",
       "        -8.73101499e-01, -7.93515363e-01, -4.03558150e-01,\n",
       "        -1.10554160e+00,  1.02247472e+00],\n",
       "       [ 7.63090316e-01, -1.73369472e-01, -2.07327927e-01,\n",
       "        -3.58139761e-01,  7.72365944e-01,  2.38333788e+00,\n",
       "         2.82175870e+00,  8.32301182e-01,  2.68003601e+00,\n",
       "         9.04534034e-01, -9.78019294e-01],\n",
       "       [ 1.02723696e+00, -9.63407573e-01, -9.53708464e-01,\n",
       "        -3.58139761e-01,  8.68921266e-01,  6.19875527e-01,\n",
       "         1.27140814e+00,  9.51846516e-01,  8.98873174e-01,\n",
       "         9.04534034e-01, -9.78019294e-01],\n",
       "       [ 2.34797020e-01,  1.27503371e+00,  2.03181368e+00,\n",
       "        -3.58139761e-01,  4.96493596e-01,  2.63526107e+00,\n",
       "         3.22425356e+00, -7.62433576e-02,  3.00388380e+00,\n",
       "         9.04534034e-01, -9.78019294e-01],\n",
       "       [ 1.02723696e+00, -1.22675361e+00, -9.53708464e-01,\n",
       "        -3.58139761e-01,  8.55127648e-01, -1.60273716e-01,\n",
       "        -6.26067619e-01,  8.56210249e-01, -2.90915441e-01,\n",
       "         9.04534034e-01,  1.02247472e+00],\n",
       "       [ 2.34797020e-01, -3.70878997e-01,  1.65862342e-01,\n",
       "        -3.58139761e-01,  6.75810622e-01,  9.16494770e-02,\n",
       "        -2.38479978e-01,  4.73665180e-01, -6.56300229e-02,\n",
       "         9.04534034e-01,  1.02247472e+00],\n",
       "       [-1.08593622e+00, -3.05042489e-01,  9.12242879e-01,\n",
       "         6.93962207e-01, -9.65629850e-01, -9.24169849e-01,\n",
       "        -8.58194282e-01, -8.41333496e-01, -9.38611019e-01,\n",
       "        -1.10554160e+00,  1.02247472e+00],\n",
       "       [ 1.02723696e+00, -1.95095520e+00, -9.53708464e-01,\n",
       "        -3.10316944e-01,  8.89611692e-01,  9.12431493e-01,\n",
       "         6.17620196e-01,  1.02357372e+00,  8.14391143e-01,\n",
       "         9.04534034e-01,  1.02247472e+00],\n",
       "       [ 4.98943668e-01, -3.05042489e-01,  9.12242879e-01,\n",
       "        -3.58139761e-01,  7.10294665e-01, -7.90081698e-02,\n",
       "        -2.55516797e-01,  7.84483049e-01, -1.78272732e-01,\n",
       "         9.04534034e-01,  1.02247472e+00]])"
      ]
     },
     "execution_count": 90,
     "metadata": {},
     "output_type": "execute_result"
    }
   ],
   "source": [
    "X_test_sc"
   ]
  },
  {
   "cell_type": "code",
   "execution_count": 98,
   "id": "fb668b39",
   "metadata": {},
   "outputs": [
    {
     "name": "stdout",
     "output_type": "stream",
     "text": [
      "R2: 0.9853740097555919\n",
      "MAE is: 0.6091468287740605\n"
     ]
    }
   ],
   "source": [
    "lr=LinearRegression()\n",
    "lr.fit(X_train_sc,y_train)\n",
    "y_pred=lr.predict(X_test_sc)\n",
    "mae=mean_absolute_error(y_test,y_pred)\n",
    "print(\"R2:\",r2_score(y_test,y_pred))\n",
    "print(\"MAE is:\",mae)"
   ]
  },
  {
   "cell_type": "code",
   "execution_count": 99,
   "id": "306adfbd",
   "metadata": {},
   "outputs": [
    {
     "data": {
      "text/plain": [
       "<matplotlib.collections.PathCollection at 0x2385eb4de20>"
      ]
     },
     "execution_count": 99,
     "metadata": {},
     "output_type": "execute_result"
    },
    {
     "data": {
      "image/png": "[encoded data removed]",
      "text/plain": [
       "<Figure size 576x396 with 1 Axes>"
      ]
     },
     "metadata": {},
     "output_type": "display_data"
    }
   ],
   "source": [
    "plt.scatter(y_test,y_pred)"
   ]
  },
  {
   "cell_type": "code",
   "execution_count": 108,
   "id": "8d7d8947",
   "metadata": {},
   "outputs": [
    {
     "name": "stdout",
     "output_type": "stream",
     "text": [
      "R2: 0.9510660754919881\n",
      "MAE is: 1.1897267502013054\n"
     ]
    },
    {
     "data": {
      "text/plain": [
       "<matplotlib.collections.PathCollection at 0x2385f940820>"
      ]
     },
     "execution_count": 108,
     "metadata": {},
     "output_type": "execute_result"
    },
    {
     "data": {
      "image/png": "[encoded data removed]",
      "text/plain": [
       "<Figure size 576x396 with 1 Axes>"
      ]
     },
     "metadata": {},
     "output_type": "display_data"
    }
   ],
   "source": [
    "lr=Lasso()\n",
    "lr.fit(X_train_sc,y_train)\n",
    "y_pred=lr.predict(X_test_sc)\n",
    "mae=mean_absolute_error(y_test,y_pred)\n",
    "print(\"R2:\",r2_score(y_test,y_pred))\n",
    "print(\"MAE is:\",mae)\n",
    "plt.scatter(y_test,y_pred)"
   ]
  },
  {
   "cell_type": "code",
   "execution_count": 107,
   "id": "16ea1124",
   "metadata": {},
   "outputs": [
    {
     "name": "stdout",
     "output_type": "stream",
     "text": [
      "R2: 0.9834713866519296\n",
      "MAE is: 0.639633385913725\n"
     ]
    },
    {
     "data": {
      "text/plain": [
       "<matplotlib.collections.PathCollection at 0x2385f82ef40>"
      ]
     },
     "execution_count": 107,
     "metadata": {},
     "output_type": "execute_result"
    },
    {
     "data": {
      "image/png": "[encoded data removed]",
      "text/plain": [
       "<Figure size 576x396 with 1 Axes>"
      ]
     },
     "metadata": {},
     "output_type": "display_data"
    }
   ],
   "source": [
    "lr=Ridge()\n",
    "lr.fit(X_train_sc,y_train)\n",
    "y_pred=lr.predict(X_test_sc)\n",
    "mae=mean_absolute_error(y_test,y_pred)\n",
    "print(\"R2:\",r2_score(y_test,y_pred))\n",
    "print(\"MAE is:\",mae)\n",
    "plt.scatter(y_test,y_pred)"
   ]
  },
  {
   "cell_type": "code",
   "execution_count": 109,
   "id": "5a437f53",
   "metadata": {},
   "outputs": [
    {
     "name": "stdout",
     "output_type": "stream",
     "text": [
      "R2: 0.8941328227240914\n",
      "MAE is: 1.7844976962539396\n"
     ]
    },
    {
     "data": {
      "text/plain": [
       "<matplotlib.collections.PathCollection at 0x2385f576dc0>"
      ]
     },
     "execution_count": 109,
     "metadata": {},
     "output_type": "execute_result"
    },
    {
     "data": {
      "image/png": "[encoded data removed]",
      "text/plain": [
       "<Figure size 576x396 with 1 Axes>"
      ]
     },
     "metadata": {},
     "output_type": "display_data"
    }
   ],
   "source": [
    "lr=ElasticNet()\n",
    "lr.fit(X_train_sc,y_train)\n",
    "y_pred=lr.predict(X_test_sc)\n",
    "mae=mean_absolute_error(y_test,y_pred)\n",
    "print(\"R2:\",r2_score(y_test,y_pred))\n",
    "print(\"MAE is:\",mae)\n",
    "plt.scatter(y_test,y_pred)"
   ]
  },
  {
   "cell_type": "code",
   "execution_count": 117,
   "id": "22979c76",
   "metadata": {},
   "outputs": [
    {
     "name": "stdout",
     "output_type": "stream",
     "text": [
      "R2: 0.9855642608162141\n",
      "MAE is: 0.614405614220551\n"
     ]
    },
    {
     "data": {
      "image/png": "[encoded data removed]",
      "text/plain": [
       "<Figure size 576x396 with 1 Axes>"
      ]
     },
     "metadata": {},
     "output_type": "display_data"
    }
   ],
   "source": [
    "lassoCV=LassoCV(cv=5)\n",
    "lassoCV.fit(X_train_sc,y_train)\n",
    "y_pred=lassoCV.predict(X_test_sc)\n",
    "plt.scatter(y_test,y_pred)\n",
    "mae=mean_absolute_error(y_test,y_pred)\n",
    "print(\"R2:\",r2_score(y_test,y_pred))\n",
    "print(\"MAE is:\",mae)"
   ]
  },
  {
   "cell_type": "code",
   "execution_count": null,
   "id": "d32263b1",
   "metadata": {},
   "outputs": [],
   "source": []
  }
 ],
 "metadata": {
  "kernelspec": {
   "display_name": "Python 3",
   "language": "python",
   "name": "python3"
  },
  "language_info": {
   "codemirror_mode": {
    "name": "ipython",
    "version": 3
   },
   "file_extension": ".py",
   "mimetype": "text/x-python",
   "name": "python",
   "nbconvert_exporter": "python",
   "pygments_lexer": "ipython3",
   "version": "3.8.8"
  }
 },
 "nbformat": 4,
 "nbformat_minor": 5
}
